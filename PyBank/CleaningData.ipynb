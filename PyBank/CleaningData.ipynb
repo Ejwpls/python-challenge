{
 "cells": [
  {
   "cell_type": "code",
   "execution_count": 111,
   "metadata": {
    "collapsed": true
   },
   "outputs": [
    {
     "name": "stdout",
     "output_type": "stream",
     "text": [
      "86\n"
     ]
    }
   ],
   "source": [
    "#Import modules\n",
    "import os \n",
    "import csv\n",
    "\n",
    "#csv pathcd\n",
    "_csv =  os.path.join('Resources','budget_data.csv')\n",
    "\n",
    "\n",
    "\n",
    "total_sum = 0\n",
    "\n",
    "#Read CSV with CSV module\n",
    "with open(_csv) as csvfile:\n",
    "    #Specify delimiter\n",
    "    csvreader = csv.reader(csvfile, delimiter=',')\n",
    "    csv_header = next(csvreader)\n",
    "    data = list(csvreader)\n",
    "\n",
    "    data1 = data[0]\n",
    "\n",
    "    list1 = _csv[0]\n",
    "\n",
    "    print(len(data))\n",
    "    \n",
    "\n",
    "    #d1 = [item[1]] for item in data]\n",
    "    total_sum = 0\n",
    "\n",
    "    profit = data[1]\n",
    "\n",
    "    for row in (data):\n",
    "        total_sum = int(row[1]) + total_sum\n",
    "\n",
    "    i = 0\n",
    "    change = []\n",
    "    lastvalue = 0\n",
    "    average_change =0\n",
    "\n",
    "    #Total Profit/Loss\n",
    "    for row in (data):\n",
    "        total_sum = float(row[1]) + total_sum\n",
    "        if i > 0:\n",
    "            change.append((float(row[1])-lastvalue ))\n",
    "        lastvalue = float(row[1]) \n",
    "        i +=1\n",
    "        \n",
    "       #Average change\n",
    "    for v in change:\n",
    "        average_change = average_change + v\n",
    "    \n",
    "    average_change = round(average_change/len(change),2)\n",
    "\n",
    "    #Maximum Profit\n",
    "    max_changeprofit = max(change)\n",
    "    min_changeprofit = min(change)\n",
    "\n",
    "    a = change.index(max_changeprofit)"
   ]
  },
  {
   "cell_type": "code",
   "execution_count": null,
   "metadata": {
    "collapsed": true,
    "inputHidden": false,
    "outputHidden": false
   },
   "outputs": [],
   "source": []
  },
  {
   "cell_type": "code",
   "execution_count": 112,
   "metadata": {
    "collapsed": true,
    "inputHidden": false,
    "outputHidden": false
   },
   "outputs": [],
   "source": [
    "#def legend():\n",
    "#    a = def_dict1.get(Raw_tbl[\"Depth\"][1], def_dict1[min(def_dict1.keys(), key=lambda k: abs(k-Raw_tbl['Depth'][1]))])\n",
    "#    return a\n",
    "\n"
   ]
  },
  {
   "cell_type": "code",
   "execution_count": 113,
   "metadata": {},
   "outputs": [
    {
     "ename": "NameError",
     "evalue": "name 'm_df' is not defined",
     "output_type": "error",
     "traceback": [
      "\u001b[1;31m---------------------------------------------------------------------------\u001b[0m",
      "\u001b[1;31mNameError\u001b[0m                                 Traceback (most recent call last)",
      "\u001b[1;32m<ipython-input-113-2388d1fa2c75>\u001b[0m in \u001b[0;36m<module>\u001b[1;34m\u001b[0m\n\u001b[0;32m      1\u001b[0m \u001b[1;31m#min(def_dict1, key=lambda x:abs(x-def_dict1[x]))\u001b[0m\u001b[1;33m\u001b[0m\u001b[1;33m\u001b[0m\u001b[1;33m\u001b[0m\u001b[0m\n\u001b[1;32m----> 2\u001b[1;33m \u001b[0mf_df\u001b[0m \u001b[1;33m=\u001b[0m \u001b[0mm_df\u001b[0m\u001b[1;33m\u001b[0m\u001b[1;33m\u001b[0m\u001b[0m\n\u001b[0m\u001b[0;32m      3\u001b[0m \u001b[1;33m\u001b[0m\u001b[0m\n\u001b[0;32m      4\u001b[0m \u001b[1;32mdef\u001b[0m \u001b[0mDepth_\u001b[0m\u001b[1;33m(\u001b[0m\u001b[0mx\u001b[0m\u001b[1;33m)\u001b[0m\u001b[1;33m:\u001b[0m\u001b[1;33m\u001b[0m\u001b[1;33m\u001b[0m\u001b[0m\n\u001b[0;32m      5\u001b[0m     \u001b[0ma\u001b[0m \u001b[1;33m=\u001b[0m \u001b[0mdef_dict1\u001b[0m\u001b[1;33m.\u001b[0m\u001b[0mget\u001b[0m\u001b[1;33m(\u001b[0m\u001b[0mx\u001b[0m\u001b[1;33m,\u001b[0m \u001b[0mdef_dict1\u001b[0m\u001b[1;33m[\u001b[0m\u001b[0mmin\u001b[0m\u001b[1;33m(\u001b[0m\u001b[0mdef_dict1\u001b[0m\u001b[1;33m.\u001b[0m\u001b[0mkeys\u001b[0m\u001b[1;33m(\u001b[0m\u001b[1;33m)\u001b[0m\u001b[1;33m,\u001b[0m \u001b[0mkey\u001b[0m\u001b[1;33m=\u001b[0m\u001b[1;32mlambda\u001b[0m \u001b[0mk\u001b[0m\u001b[1;33m:\u001b[0m \u001b[0mabs\u001b[0m\u001b[1;33m(\u001b[0m\u001b[0mk\u001b[0m\u001b[1;33m-\u001b[0m\u001b[0mx\u001b[0m\u001b[1;33m)\u001b[0m\u001b[1;33m)\u001b[0m\u001b[1;33m]\u001b[0m\u001b[1;33m)\u001b[0m\u001b[1;33m\u001b[0m\u001b[1;33m\u001b[0m\u001b[0m\n",
      "\u001b[1;31mNameError\u001b[0m: name 'm_df' is not defined"
     ]
    }
   ],
   "source": [
    "\n",
    "#min(def_dict1, key=lambda x:abs(x-def_dict1[x]))\n",
    "f_df = m_df\n",
    "\n",
    "def Depth_(x):\n",
    "    a = def_dict1.get(x, def_dict1[min(def_dict1.keys(), key=lambda k: abs(k-x))])\n",
    "    return a\n",
    "\n",
    "f_df['Comment'] = f_df['Depth'].apply(lambda x: Depth_(x-1))\n",
    "\n",
    "f_df"
   ]
  },
  {
   "cell_type": "code",
   "execution_count": null,
   "metadata": {},
   "outputs": [
    {
     "data": {
      "text/html": [
       "<div>\n",
       "<style scoped>\n",
       "    .dataframe tbody tr th:only-of-type {\n",
       "        vertical-align: middle;\n",
       "    }\n",
       "\n",
       "    .dataframe tbody tr th {\n",
       "        vertical-align: top;\n",
       "    }\n",
       "\n",
       "    .dataframe thead th {\n",
       "        text-align: right;\n",
       "    }\n",
       "</style>\n",
       "<table border=\"1\" class=\"dataframe\">\n",
       "  <thead>\n",
       "    <tr style=\"text-align: right;\">\n",
       "      <th></th>\n",
       "      <th>Depth</th>\n",
       "      <th>Comment</th>\n",
       "    </tr>\n",
       "  </thead>\n",
       "  <tbody>\n",
       "    <tr>\n",
       "      <th>0</th>\n",
       "      <td>1005</td>\n",
       "      <td>Silt</td>\n",
       "    </tr>\n",
       "    <tr>\n",
       "      <th>1</th>\n",
       "      <td>2000</td>\n",
       "      <td>Silt</td>\n",
       "    </tr>\n",
       "    <tr>\n",
       "      <th>2</th>\n",
       "      <td>3600</td>\n",
       "      <td>Coal</td>\n",
       "    </tr>\n",
       "    <tr>\n",
       "      <th>3</th>\n",
       "      <td>4000</td>\n",
       "      <td>Coal</td>\n",
       "    </tr>\n",
       "    <tr>\n",
       "      <th>4</th>\n",
       "      <td>999</td>\n",
       "      <td>Sand</td>\n",
       "    </tr>\n",
       "  </tbody>\n",
       "</table>\n",
       "</div>"
      ],
      "text/plain": [
       "   Depth Comment\n",
       "0   1005    Silt\n",
       "1   2000    Silt\n",
       "2   3600    Coal\n",
       "3   4000    Coal\n",
       "4    999    Sand"
      ]
     },
     "execution_count": 104,
     "metadata": {},
     "output_type": "execute_result"
    }
   ],
   "source": [
    "#Add Legend to Master table \n",
    "f_df.loc[(f_df['Depth'] <= 1000), 'Comment'] = 'Sand' \n",
    "f_df.loc[(f_df['Depth'] <= 2500) & (f_df['Depth'] > 1000), 'Comment'] = 'Silt'\n",
    "f_df.loc[(f_df['Depth'] >= 4000), 'Comment'] = 'Coal'  \n",
    "\n",
    "f_df.head()"
   ]
  },
  {
   "cell_type": "code",
   "execution_count": null,
   "metadata": {
    "inputHidden": false,
    "outputHidden": false
   },
   "outputs": [],
   "source": []
  },
  {
   "cell_type": "code",
   "execution_count": null,
   "metadata": {
    "inputHidden": false,
    "outputHidden": false
   },
   "outputs": [],
   "source": []
  }
 ],
 "metadata": {
  "anaconda-cloud": {},
  "kernel_info": {
   "name": "python3"
  },
  "kernelspec": {
   "display_name": "Python 3",
   "language": "python",
   "name": "python3"
  },
  "language_info": {
   "codemirror_mode": {
    "name": "ipython",
    "version": 3
   },
   "file_extension": ".py",
   "mimetype": "text/x-python",
   "name": "python",
   "nbconvert_exporter": "python",
   "pygments_lexer": "ipython3",
   "version": "3.6.13"
  },
  "nteract": {
   "version": "0.2.0"
  }
 },
 "nbformat": 4,
 "nbformat_minor": 2
}
