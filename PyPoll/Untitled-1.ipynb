{
 "cells": [
  {
   "cell_type": "code",
   "execution_count": 1,
   "metadata": {},
   "outputs": [],
   "source": [
    "#Import modules\n",
    "import os \n",
    "import csv\n",
    "\n",
    "from numpy import append, average, double\n",
    "\n",
    "#csv path\n",
    "_csv =  os.path.join('Resources','election_data.csv')\n",
    "\n",
    "with open(_csv) as election_csv:\n",
    "    #Split the data on commas \n",
    "    csvreader = csv.reader(election_csv, delimiter=',')\n",
    "    header = next(csvreader)\n",
    "    \n",
    "    election_list = list(csvreader)\n",
    "    #Total Number of voters \n",
    "    total_votes = len(election_list)\n",
    "\n",
    "    "
   ]
  },
  {
   "cell_type": "code",
   "execution_count": 2,
   "metadata": {},
   "outputs": [
    {
     "name": "stdout",
     "output_type": "stream",
     "text": [
      "{'Khan': 0, 'Correy': 0, 'Li': 0, \"O'Tooley\": 0}\n",
      "Election Results\n",
      "---------------------------\n",
      "Total Votes: 3521001\n",
      "---------------------------\n"
     ]
    }
   ],
   "source": [
    "candidate_dict = {}\n",
    "\n",
    "#List of unique votes\n",
    "for row in election_list:\n",
    "    if row[2] not in candidate_dict:\n",
    "        new_candidate = {row[2]: 0}\n",
    "        candidate_dict.update(new_candidate)\n",
    "\n",
    "print(candidate_dict)\n",
    "\n",
    "\n",
    "    #Election Results\n",
    "print(\"Election Results\" + \"\\n\" + \"---------------------------\")\n",
    "print(\"Total Votes: \" + str((total_votes))+ \"\\n\" + \"---------------------------\")\n",
    "\n",
    "    #print(\"Total: $\" + str((total_sum)))\n",
    "    #print(\"Average Change: $\" + str((average_change)))\n",
    "    #print(f\"Greatest Increase in Profits: {date_max} (${str((max_changeprofit))})\")\n",
    "    #print(f\"Greatest Decrease in Profits: {date_min} (${str((min_changeprofit))})\")"
   ]
  }
 ],
 "metadata": {
  "interpreter": {
   "hash": "c8bb2231e77126e3245d14d5ef235614071249ea9abc208fdcdb593b957d11e1"
  },
  "kernelspec": {
   "display_name": "Python 3.6.13 ('PythonData')",
   "language": "python",
   "name": "python3"
  },
  "language_info": {
   "codemirror_mode": {
    "name": "ipython",
    "version": 3
   },
   "file_extension": ".py",
   "mimetype": "text/x-python",
   "name": "python",
   "nbconvert_exporter": "python",
   "pygments_lexer": "ipython3",
   "version": "3.6.13"
  },
  "orig_nbformat": 4
 },
 "nbformat": 4,
 "nbformat_minor": 2
}
